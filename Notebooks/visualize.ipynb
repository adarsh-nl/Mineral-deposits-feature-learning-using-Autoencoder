{
 "cells": [
  {
   "cell_type": "code",
   "execution_count": 43,
   "metadata": {},
   "outputs": [],
   "source": [
    "import rasterio\n",
    "from rasterio.plot import show\n",
    "import numpy as np\n",
    "import pandas as pd\n",
    "import matplotlib.pyplot as plt\n",
    "\n",
    "\n",
    "BASE_PATH = 'C:\\Adarsh work\\personal\\IIITS\\Remote Sensing\\\\'\n",
    "DEBUG = True\n",
    "def debug(args):\n",
    "    if DEBUG:\n",
    "        print(args)"
   ]
  },
  {
   "cell_type": "code",
   "execution_count": 44,
   "metadata": {},
   "outputs": [
    {
     "name": "stdout",
     "output_type": "stream",
     "text": [
      "Shape of the image is: (1, 1055, 834)\n",
      "The number of pixels in the image: 879870\n"
     ]
    },
    {
     "data": {
      "image/png": "[encoded data removed]",
      "text/plain": [
       "<Figure size 640x480 with 1 Axes>"
      ]
     },
     "metadata": {},
     "output_type": "display_data"
    },
    {
     "data": {
      "text/plain": [
       "<Axes: >"
      ]
     },
     "execution_count": 44,
     "metadata": {},
     "output_type": "execute_result"
    }
   ],
   "source": [
    "image_path = BASE_PATH + 'Data\\TrnRstr1.tif'\n",
    "\n",
    "dataset = rasterio.open(image_path)\n",
    "bands = dataset.read()\n",
    "\n",
    "# Convert the image array to a writable array\n",
    "image_array = bands.copy()\n",
    "# Create an array with the same shape as the image for storing labels\n",
    "label_array = np.zeros_like(bands[0])\n",
    "\n",
    "debug(f'Shape of the image is: {bands.shape}')\n",
    "debug(f'The number of pixels in the image: {bands.shape[1]*bands.shape[2]}')\n",
    "show(bands)"
   ]
  },
  {
   "cell_type": "code",
   "execution_count": 39,
   "metadata": {},
   "outputs": [
    {
     "ename": "IndexError",
     "evalue": "index 523970 is out of bounds for axis 1 with size 1055",
     "output_type": "error",
     "traceback": [
      "\u001b[1;31m---------------------------------------------------------------------------\u001b[0m",
      "\u001b[1;31mIndexError\u001b[0m                                Traceback (most recent call last)",
      "Cell \u001b[1;32mIn[39], line 10\u001b[0m\n\u001b[0;32m      7\u001b[0m     x_coord, y_coord, raster_value, label \u001b[38;5;241m=\u001b[39m row[\u001b[38;5;124m'\u001b[39m\u001b[38;5;124mX Coordinate\u001b[39m\u001b[38;5;124m'\u001b[39m], row[\u001b[38;5;124m'\u001b[39m\u001b[38;5;124mY Coordinate\u001b[39m\u001b[38;5;124m'\u001b[39m], row[\u001b[38;5;124m'\u001b[39m\u001b[38;5;124mRASTERVALU\u001b[39m\u001b[38;5;124m'\u001b[39m], row[\u001b[38;5;124m'\u001b[39m\u001b[38;5;124mLabel\u001b[39m\u001b[38;5;124m'\u001b[39m]\n\u001b[0;32m      9\u001b[0m     \u001b[38;5;66;03m# Place RASTERVALU and label values in the image array at the corresponding pixel position\u001b[39;00m\n\u001b[1;32m---> 10\u001b[0m     \u001b[43mimage_array\u001b[49m\u001b[43m[\u001b[49m\u001b[38;5;241;43m0\u001b[39;49m\u001b[43m,\u001b[49m\u001b[43m \u001b[49m\u001b[38;5;28;43mint\u001b[39;49m\u001b[43m(\u001b[49m\u001b[43mx_coord\u001b[49m\u001b[43m)\u001b[49m\u001b[43m,\u001b[49m\u001b[43m \u001b[49m\u001b[38;5;28;43mint\u001b[39;49m\u001b[43m(\u001b[49m\u001b[43my_coord\u001b[49m\u001b[43m)\u001b[49m\u001b[43m]\u001b[49m \u001b[38;5;241m=\u001b[39m raster_value\n\u001b[0;32m     11\u001b[0m     label_array[\u001b[38;5;241m0\u001b[39m, \u001b[38;5;28mint\u001b[39m(x_coord), \u001b[38;5;28mint\u001b[39m(y_coord)] \u001b[38;5;241m=\u001b[39m label\n\u001b[0;32m     13\u001b[0m \u001b[38;5;66;03m# Optionally, you can save the modified image array as a new TIFF file\u001b[39;00m\n",
      "\u001b[1;31mIndexError\u001b[0m: index 523970 is out of bounds for axis 1 with size 1055"
     ]
    }
   ],
   "source": [
    "csv_file_path = BASE_PATH + 'Data\\\\raw_data.csv'\n",
    "\n",
    "df = pd.read_csv(csv_file_path)\n",
    "\n",
    "# Iterate over rows in the CSV file\n",
    "for index, row in df.iterrows():\n",
    "    x_coord, y_coord, raster_value, label = row['X Coordinate'], row['Y Coordinate'], row['RASTERVALU'], row['Label']\n",
    "\n",
    "    # Place RASTERVALU and label values in the image array at the corresponding pixel position\n",
    "    image_array[0, int(x_coord), int(y_coord)] = raster_value\n",
    "    label_array[0, int(x_coord), int(y_coord)] = label\n",
    "\n",
    "# Optionally, you can save the modified image array as a new TIFF file\n",
    "new_label_image_path = BASE_PATH + 'Data\\labels.tif'\n",
    "with rasterio.open(new_label_image_path, 'w', driver='GTiff', count=bands.shape[0], width=bands.shape[2], height=bands.shape[1], crs=dataset.crs, transform=dataset.transform, dtype='float32') as dst:\n",
    "    dst.write(label_array, indexes=list(range(1, bands.shape[0] + 1)))\n",
    "\n",
    "print(f\"Data from CSV file placed in the image array. Modified image saved at: {new_label_image_path}\")\n"
   ]
  },
  {
   "cell_type": "code",
   "execution_count": 42,
   "metadata": {},
   "outputs": [
    {
     "data": {
      "text/plain": [
       "(1, 1055, 834)"
      ]
     },
     "execution_count": 42,
     "metadata": {},
     "output_type": "execute_result"
    }
   ],
   "source": [
    "image_array.shape"
   ]
  },
  {
   "cell_type": "code",
   "execution_count": null,
   "metadata": {},
   "outputs": [],
   "source": []
  }
 ],
 "metadata": {
  "kernelspec": {
   "display_name": "iiits",
   "language": "python",
   "name": "python3"
  },
  "language_info": {
   "codemirror_mode": {
    "name": "ipython",
    "version": 3
   },
   "file_extension": ".py",
   "mimetype": "text/x-python",
   "name": "python",
   "nbconvert_exporter": "python",
   "pygments_lexer": "ipython3",
   "version": "3.9.12"
  }
 },
 "nbformat": 4,
 "nbformat_minor": 2
}
